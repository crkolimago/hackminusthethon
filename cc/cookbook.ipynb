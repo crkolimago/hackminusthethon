{
 "cells": [
  {
   "cell_type": "markdown",
   "metadata": {},
   "source": [
    "# TODO\n",
    "- image processing: detect title text (large, green) and recipe text (bold)\n",
    "- figure out how to read fractions"
   ]
  },
  {
   "cell_type": "code",
   "execution_count": 1,
   "metadata": {},
   "outputs": [],
   "source": [
    "import cv2\n",
    "import pytesseract"
   ]
  },
  {
   "cell_type": "code",
   "execution_count": 7,
   "metadata": {},
   "outputs": [],
   "source": [
    "img = cv2.imread('pics/tropical_breakfast_smoothie.jpg')\n",
    "img = cv2.imread('pics/go_to_green_smootie.jpg')"
   ]
  },
  {
   "cell_type": "code",
   "execution_count": 8,
   "metadata": {},
   "outputs": [
    {
     "name": "stdout",
     "output_type": "stream",
     "text": [
      "Go-To Green Smocthie\n",
      "\n",
      "lf | could choose only one green smoothie to enjoy for the rest of my\n",
      "\n",
      " \n",
      "\n",
      "ea life, this is the one. The sweetness of the pineapple and tang of the\n",
      "fresh limes make it a good green smoothie for beginners.\n",
      "1 lime, peeled\n",
      "4 cup freshly squeezed orange juice\n",
      "2 cups roughly chopped kale or spinach\n",
      "4 cup loosely packed fresh cilantro or parsley\n",
      "5 1 cup water\n",
      "+) 1 cup frozen cubed pineapple\n",
      "35\n",
      "i Place the lime, orange juice, kale, and cilantro into a blender,\n",
      "and add just enough water to blend. Purée until smooth.\n",
      "2 Add the frozen pineapple chunks, and blend until smooth.\n",
      "VARIATIONS\n",
      "resh\n",
      "; first to Blueberry Power Greens Smoothie: Blend 2 cups of fresh spinach,\n",
      "2 liquid 1 banana, and 1 cup of apple juice. Add 1 cup of frozen blueberries,\n",
      "ing mor ' 7\n",
      "“ie as and blend until smooth. If using fresh blueberries, add 1 cup of ice.\n",
      "uch as\n",
      "\n",
      "Creamy Kale and Banana Smoothie: Blend 2 cups of fresh kale,\n",
      "1 peeled lime, and 1 cup of almond milk. Add 1 cup of frozen\n",
      "3 banana chunks, and blend until smooth. If using fresh banana, add\n"
     ]
    }
   ],
   "source": [
    "text = pytesseract.image_to_string(img)\n",
    "print(text)"
   ]
  }
 ],
 "metadata": {
  "kernelspec": {
   "display_name": "env",
   "language": "python",
   "name": "env"
  },
  "language_info": {
   "codemirror_mode": {
    "name": "ipython",
    "version": 3
   },
   "file_extension": ".py",
   "mimetype": "text/x-python",
   "name": "python",
   "nbconvert_exporter": "python",
   "pygments_lexer": "ipython3",
   "version": "3.6.9"
  }
 },
 "nbformat": 4,
 "nbformat_minor": 4
}
